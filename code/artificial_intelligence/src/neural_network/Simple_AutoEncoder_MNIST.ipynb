{
 "cells": [
  {
   "cell_type": "code",
   "execution_count": 6,
   "metadata": {},
   "outputs": [
    {
     "ename": "ImportError",
     "evalue": "cannot import name np_utils",
     "output_type": "error",
     "traceback": [
      "\u001b[0;31m---------------------------------------------------------------------------\u001b[0m",
      "\u001b[0;31mImportError\u001b[0m                               Traceback (most recent call last)",
      "\u001b[0;32m<ipython-input-6-3f7f4d2f4c5f>\u001b[0m in \u001b[0;36m<module>\u001b[0;34m()\u001b[0m\n\u001b[1;32m      3\u001b[0m \u001b[0mget_ipython\u001b[0m\u001b[0;34m(\u001b[0m\u001b[0;34m)\u001b[0m\u001b[0;34m.\u001b[0m\u001b[0mmagic\u001b[0m\u001b[0;34m(\u001b[0m\u001b[0;34mu'matplotlib inline'\u001b[0m\u001b[0;34m)\u001b[0m\u001b[0;34m\u001b[0m\u001b[0m\n\u001b[1;32m      4\u001b[0m \u001b[0;32mimport\u001b[0m \u001b[0mpandas\u001b[0m \u001b[0;32mas\u001b[0m \u001b[0mpd\u001b[0m\u001b[0;34m\u001b[0m\u001b[0m\n\u001b[0;32m----> 5\u001b[0;31m \u001b[0;32mimport\u001b[0m \u001b[0mkeras\u001b[0m\u001b[0;34m\u001b[0m\u001b[0m\n\u001b[0m\u001b[1;32m      6\u001b[0m \u001b[0;32mfrom\u001b[0m \u001b[0mkeras\u001b[0m\u001b[0;34m.\u001b[0m\u001b[0mlayers\u001b[0m \u001b[0;32mimport\u001b[0m \u001b[0mDense\u001b[0m\u001b[0;34m,\u001b[0m \u001b[0mActivation\u001b[0m\u001b[0;34m,\u001b[0m\u001b[0mInput\u001b[0m\u001b[0;34m\u001b[0m\u001b[0m\n\u001b[1;32m      7\u001b[0m \u001b[0;32mfrom\u001b[0m \u001b[0mkeras\u001b[0m\u001b[0;34m.\u001b[0m\u001b[0mmodels\u001b[0m \u001b[0;32mimport\u001b[0m \u001b[0mModel\u001b[0m\u001b[0;34m\u001b[0m\u001b[0m\n",
      "\u001b[0;32m/Library/Frameworks/Python.framework/Versions/2.7/lib/python2.7/site-packages/keras/__init__.py\u001b[0m in \u001b[0;36m<module>\u001b[0;34m()\u001b[0m\n\u001b[1;32m      1\u001b[0m \u001b[0;32mfrom\u001b[0m \u001b[0m__future__\u001b[0m \u001b[0;32mimport\u001b[0m \u001b[0mabsolute_import\u001b[0m\u001b[0;34m\u001b[0m\u001b[0m\n\u001b[1;32m      2\u001b[0m \u001b[0;34m\u001b[0m\u001b[0m\n\u001b[0;32m----> 3\u001b[0;31m \u001b[0;32mfrom\u001b[0m \u001b[0;34m.\u001b[0m \u001b[0;32mimport\u001b[0m \u001b[0mutils\u001b[0m\u001b[0;34m\u001b[0m\u001b[0m\n\u001b[0m\u001b[1;32m      4\u001b[0m \u001b[0;32mfrom\u001b[0m \u001b[0;34m.\u001b[0m \u001b[0;32mimport\u001b[0m \u001b[0mactivations\u001b[0m\u001b[0;34m\u001b[0m\u001b[0m\n\u001b[1;32m      5\u001b[0m \u001b[0;32mfrom\u001b[0m \u001b[0;34m.\u001b[0m \u001b[0;32mimport\u001b[0m \u001b[0mapplications\u001b[0m\u001b[0;34m\u001b[0m\u001b[0m\n",
      "\u001b[0;32m/Library/Frameworks/Python.framework/Versions/2.7/lib/python2.7/site-packages/keras/utils/__init__.py\u001b[0m in \u001b[0;36m<module>\u001b[0;34m()\u001b[0m\n\u001b[1;32m      1\u001b[0m \u001b[0;32mfrom\u001b[0m \u001b[0m__future__\u001b[0m \u001b[0;32mimport\u001b[0m \u001b[0mabsolute_import\u001b[0m\u001b[0;34m\u001b[0m\u001b[0m\n\u001b[0;32m----> 2\u001b[0;31m \u001b[0;32mfrom\u001b[0m \u001b[0;34m.\u001b[0m \u001b[0;32mimport\u001b[0m \u001b[0mnp_utils\u001b[0m\u001b[0;34m\u001b[0m\u001b[0m\n\u001b[0m\u001b[1;32m      3\u001b[0m \u001b[0;32mfrom\u001b[0m \u001b[0;34m.\u001b[0m \u001b[0;32mimport\u001b[0m \u001b[0mgeneric_utils\u001b[0m\u001b[0;34m\u001b[0m\u001b[0m\n\u001b[1;32m      4\u001b[0m \u001b[0;32mfrom\u001b[0m \u001b[0;34m.\u001b[0m \u001b[0;32mimport\u001b[0m \u001b[0mdata_utils\u001b[0m\u001b[0;34m\u001b[0m\u001b[0m\n\u001b[1;32m      5\u001b[0m \u001b[0;32mfrom\u001b[0m \u001b[0;34m.\u001b[0m \u001b[0;32mimport\u001b[0m \u001b[0mio_utils\u001b[0m\u001b[0;34m\u001b[0m\u001b[0m\n",
      "\u001b[0;31mImportError\u001b[0m: cannot import name np_utils"
     ]
    }
   ],
   "source": [
    "import numpy as np\n",
    "import matplotlib.pyplot as plt\n",
    "%matplotlib inline\n",
    "import pandas as pd\n",
    "import keras\n",
    "from keras.layers import Dense, Activation,Input\n",
    "from keras.models import Model\n",
    "from keras.utils import np_utils"
   ]
  },
  {
   "cell_type": "code",
   "execution_count": 12,
   "metadata": {},
   "outputs": [
    {
     "name": "stdout",
     "output_type": "stream",
     "text": [
      "(15000, 784)\n"
     ]
    }
   ],
   "source": [
    "ds = pd.read_csv('Datasets/mnist_train.csv')\n",
    "data = ds.values[:15000,1:]/255.0\n",
    "print data.shape"
   ]
  },
  {
   "cell_type": "code",
   "execution_count": 16,
   "metadata": {},
   "outputs": [
    {
     "name": "stdout",
     "output_type": "stream",
     "text": [
      "____________________________________________________________________________________________________\n",
      "Layer (type)                     Output Shape          Param #     Connected to                     \n",
      "====================================================================================================\n",
      "input_5 (InputLayer)             (None, 784)           0                                            \n",
      "____________________________________________________________________________________________________\n",
      "dense_7 (Dense)                  (None, 100)           78500       input_5[0][0]                    \n",
      "____________________________________________________________________________________________________\n",
      "activation_7 (Activation)        (None, 100)           0           dense_7[0][0]                    \n",
      "____________________________________________________________________________________________________\n",
      "dense_8 (Dense)                  (None, 784)           79184       activation_7[0][0]               \n",
      "____________________________________________________________________________________________________\n",
      "activation_8 (Activation)        (None, 784)           0           dense_8[0][0]                    \n",
      "====================================================================================================\n",
      "Total params: 157,684\n",
      "Trainable params: 157,684\n",
      "Non-trainable params: 0\n",
      "____________________________________________________________________________________________________\n"
     ]
    }
   ],
   "source": [
    "## Model in Keras\n",
    "inp = Input(shape=(784,))\n",
    "h1 = Dense(100)\n",
    "a1= Activation('relu')\n",
    "y=Dense(784)\n",
    "ya = Activation('sigmoid')\n",
    "\n",
    "y_out = ya(y(a1(h1(inp))))\n",
    "\n",
    "model = Model(input=[inp],output=[y_out])\n",
    "\n",
    "model.summary()"
   ]
  },
  {
   "cell_type": "code",
   "execution_count": 17,
   "metadata": {},
   "outputs": [],
   "source": [
    "##Intializes Random Value of Weights\n",
    "\n",
    "model.compile(loss='MSE',optimizer='adam',metrics=['accuracy'])"
   ]
  },
  {
   "cell_type": "code",
   "execution_count": 15,
   "metadata": {},
   "outputs": [
    {
     "name": "stdout",
     "output_type": "stream",
     "text": [
      "12000\n",
      "(15000, 784)\n"
     ]
    }
   ],
   "source": [
    "split = int(0.8*data.shape[0])\n",
    "print split\n",
    "print data.shape"
   ]
  },
  {
   "cell_type": "code",
   "execution_count": 6,
   "metadata": {
    "scrolled": true
   },
   "outputs": [
    {
     "name": "stdout",
     "output_type": "stream",
     "text": [
      "Train on 12000 samples, validate on 3000 samples\n",
      "Epoch 1/50\n",
      "1s - loss: 0.0601 - acc: 0.0114 - val_loss: 0.0341 - val_acc: 0.0120\n",
      "Epoch 2/50\n",
      "1s - loss: 0.0276 - acc: 0.0107 - val_loss: 0.0224 - val_acc: 0.0090\n",
      "Epoch 3/50\n",
      "0s - loss: 0.0192 - acc: 0.0096 - val_loss: 0.0166 - val_acc: 0.0070\n",
      "Epoch 4/50\n",
      "0s - loss: 0.0146 - acc: 0.0100 - val_loss: 0.0131 - val_acc: 0.0080\n",
      "Epoch 5/50\n",
      "0s - loss: 0.0116 - acc: 0.0117 - val_loss: 0.0107 - val_acc: 0.0090\n",
      "Epoch 6/50\n",
      "0s - loss: 0.0095 - acc: 0.0109 - val_loss: 0.0089 - val_acc: 0.0107\n",
      "Epoch 7/50\n",
      "0s - loss: 0.0080 - acc: 0.0119 - val_loss: 0.0077 - val_acc: 0.0130\n",
      "Epoch 8/50\n",
      "0s - loss: 0.0069 - acc: 0.0123 - val_loss: 0.0068 - val_acc: 0.0107\n",
      "Epoch 9/50\n",
      "0s - loss: 0.0061 - acc: 0.0126 - val_loss: 0.0060 - val_acc: 0.0117\n",
      "Epoch 10/50\n",
      "1s - loss: 0.0054 - acc: 0.0125 - val_loss: 0.0054 - val_acc: 0.0137\n",
      "Epoch 11/50\n",
      "0s - loss: 0.0050 - acc: 0.0122 - val_loss: 0.0050 - val_acc: 0.0117\n",
      "Epoch 12/50\n",
      "0s - loss: 0.0046 - acc: 0.0115 - val_loss: 0.0047 - val_acc: 0.0143\n",
      "Epoch 13/50\n",
      "0s - loss: 0.0043 - acc: 0.0122 - val_loss: 0.0044 - val_acc: 0.0147\n",
      "Epoch 14/50\n",
      "0s - loss: 0.0040 - acc: 0.0123 - val_loss: 0.0041 - val_acc: 0.0130\n",
      "Epoch 15/50\n",
      "0s - loss: 0.0038 - acc: 0.0126 - val_loss: 0.0040 - val_acc: 0.0117\n",
      "Epoch 16/50\n",
      "0s - loss: 0.0036 - acc: 0.0129 - val_loss: 0.0038 - val_acc: 0.0120\n",
      "Epoch 17/50\n",
      "0s - loss: 0.0035 - acc: 0.0119 - val_loss: 0.0036 - val_acc: 0.0140\n",
      "Epoch 18/50\n",
      "0s - loss: 0.0033 - acc: 0.0118 - val_loss: 0.0035 - val_acc: 0.0137\n",
      "Epoch 19/50\n",
      "0s - loss: 0.0032 - acc: 0.0118 - val_loss: 0.0034 - val_acc: 0.0150\n",
      "Epoch 20/50\n",
      "0s - loss: 0.0031 - acc: 0.0123 - val_loss: 0.0033 - val_acc: 0.0130\n",
      "Epoch 21/50\n",
      "0s - loss: 0.0030 - acc: 0.0116 - val_loss: 0.0033 - val_acc: 0.0127\n",
      "Epoch 22/50\n",
      "0s - loss: 0.0030 - acc: 0.0118 - val_loss: 0.0032 - val_acc: 0.0133\n",
      "Epoch 23/50\n",
      "1s - loss: 0.0029 - acc: 0.0132 - val_loss: 0.0032 - val_acc: 0.0140\n",
      "Epoch 24/50\n",
      "0s - loss: 0.0028 - acc: 0.0116 - val_loss: 0.0031 - val_acc: 0.0140\n",
      "Epoch 25/50\n",
      "0s - loss: 0.0028 - acc: 0.0118 - val_loss: 0.0030 - val_acc: 0.0143\n",
      "Epoch 26/50\n",
      "0s - loss: 0.0027 - acc: 0.0113 - val_loss: 0.0030 - val_acc: 0.0147\n",
      "Epoch 27/50\n",
      "0s - loss: 0.0027 - acc: 0.0115 - val_loss: 0.0029 - val_acc: 0.0123\n",
      "Epoch 28/50\n",
      "0s - loss: 0.0026 - acc: 0.0112 - val_loss: 0.0029 - val_acc: 0.0150\n",
      "Epoch 29/50\n",
      "1s - loss: 0.0026 - acc: 0.0118 - val_loss: 0.0029 - val_acc: 0.0137\n",
      "Epoch 30/50\n",
      "1s - loss: 0.0025 - acc: 0.0113 - val_loss: 0.0028 - val_acc: 0.0143\n",
      "Epoch 31/50\n",
      "1s - loss: 0.0025 - acc: 0.0120 - val_loss: 0.0028 - val_acc: 0.0150\n",
      "Epoch 32/50\n",
      "1s - loss: 0.0025 - acc: 0.0118 - val_loss: 0.0028 - val_acc: 0.0163\n",
      "Epoch 33/50\n",
      "1s - loss: 0.0025 - acc: 0.0104 - val_loss: 0.0027 - val_acc: 0.0137\n",
      "Epoch 34/50\n",
      "1s - loss: 0.0024 - acc: 0.0118 - val_loss: 0.0027 - val_acc: 0.0160\n",
      "Epoch 35/50\n",
      "1s - loss: 0.0024 - acc: 0.0130 - val_loss: 0.0027 - val_acc: 0.0160\n",
      "Epoch 36/50\n",
      "1s - loss: 0.0024 - acc: 0.0118 - val_loss: 0.0027 - val_acc: 0.0133\n",
      "Epoch 37/50\n",
      "0s - loss: 0.0024 - acc: 0.0121 - val_loss: 0.0027 - val_acc: 0.0147\n",
      "Epoch 38/50\n",
      "0s - loss: 0.0023 - acc: 0.0122 - val_loss: 0.0026 - val_acc: 0.0157\n",
      "Epoch 39/50\n",
      "0s - loss: 0.0023 - acc: 0.0122 - val_loss: 0.0026 - val_acc: 0.0163\n",
      "Epoch 40/50\n",
      "0s - loss: 0.0023 - acc: 0.0128 - val_loss: 0.0027 - val_acc: 0.0123\n",
      "Epoch 41/50\n",
      "1s - loss: 0.0023 - acc: 0.0131 - val_loss: 0.0026 - val_acc: 0.0160\n",
      "Epoch 42/50\n",
      "1s - loss: 0.0023 - acc: 0.0129 - val_loss: 0.0026 - val_acc: 0.0150\n",
      "Epoch 43/50\n",
      "1s - loss: 0.0023 - acc: 0.0134 - val_loss: 0.0026 - val_acc: 0.0137\n",
      "Epoch 44/50\n",
      "1s - loss: 0.0023 - acc: 0.0125 - val_loss: 0.0026 - val_acc: 0.0133\n",
      "Epoch 45/50\n",
      "1s - loss: 0.0022 - acc: 0.0117 - val_loss: 0.0026 - val_acc: 0.0170\n",
      "Epoch 46/50\n",
      "1s - loss: 0.0022 - acc: 0.0129 - val_loss: 0.0025 - val_acc: 0.0143\n",
      "Epoch 47/50\n",
      "0s - loss: 0.0022 - acc: 0.0121 - val_loss: 0.0026 - val_acc: 0.0157\n",
      "Epoch 48/50\n",
      "0s - loss: 0.0022 - acc: 0.0125 - val_loss: 0.0026 - val_acc: 0.0153\n",
      "Epoch 49/50\n",
      "0s - loss: 0.0022 - acc: 0.0126 - val_loss: 0.0025 - val_acc: 0.0157\n",
      "Epoch 50/50\n",
      "1s - loss: 0.0022 - acc: 0.0130 - val_loss: 0.0025 - val_acc: 0.0153\n"
     ]
    },
    {
     "data": {
      "text/plain": [
       "<keras.callbacks.History at 0x12c591f10>"
      ]
     },
     "execution_count": 6,
     "metadata": {},
     "output_type": "execute_result"
    }
   ],
   "source": [
    "model.fit(data[:split],data[:split],batch_size=60,nb_epoch=50,verbose=2,validation_data=(data[split:],data[split:]))"
   ]
  },
  {
   "cell_type": "code",
   "execution_count": 7,
   "metadata": {},
   "outputs": [],
   "source": [
    "## Encoder\n",
    "\n",
    "enc_out = a1(h1(inp))\n",
    "encoder = Model(input=[inp],output=[enc_out])\n",
    "\n",
    "## Decoder\n",
    "dec_inp = Input(shape=(100,))\n",
    "dec_out = ya(y(a1(dec_inp)))\n",
    "decoder = Model(input=[dec_inp],output=[dec_out])"
   ]
  },
  {
   "cell_type": "code",
   "execution_count": 8,
   "metadata": {},
   "outputs": [
    {
     "name": "stdout",
     "output_type": "stream",
     "text": [
      "(1000, 100)\n",
      "(1000, 784)\n"
     ]
    }
   ],
   "source": [
    "data_pred = data[:1000,]\n",
    "ex = encoder.predict(data_pred)\n",
    "print ex.shape\n",
    "\n",
    "dx = decoder.predict(ex)\n",
    "print dx.shape\n",
    "\n",
    "\n"
   ]
  },
  {
   "cell_type": "code",
   "execution_count": 18,
   "metadata": {},
   "outputs": [
    {
     "name": "stdout",
     "output_type": "stream",
     "text": [
      "650\n"
     ]
    },
    {
     "data": {
      "image/png": "[encoded data removed]",
      "text/plain": [
       "<matplotlib.figure.Figure at 0x132de0810>"
      ]
     },
     "metadata": {},
     "output_type": "display_data"
    },
    {
     "data": {
      "image/png": "[encoded data removed]",
      "text/plain": [
       "<matplotlib.figure.Figure at 0x132dad150>"
      ]
     },
     "metadata": {},
     "output_type": "display_data"
    }
   ],
   "source": [
    "n = np.random.choice(1000)\n",
    "print n\n",
    "plt.imshow(data[n].reshape((28,28)),cmap='gray')\n",
    "plt.show()\n",
    "\n",
    "plt.imshow(dx[n].reshape((28,28)),cmap='gray')\n",
    "plt.show()"
   ]
  }
 ],
 "metadata": {
  "kernelspec": {
   "display_name": "Python 3",
   "language": "python",
   "name": "python3"
  },
  "language_info": {
   "codemirror_mode": {
    "name": "ipython",
    "version": 3
   },
   "file_extension": ".py",
   "mimetype": "text/x-python",
   "name": "python",
   "nbconvert_exporter": "python",
   "pygments_lexer": "ipython3",
   "version": "3.7.4"
  }
 },
 "nbformat": 4,
 "nbformat_minor": 2
}
